{
 "cells": [
  {
   "cell_type": "code",
   "id": "initial_id",
   "metadata": {
    "collapsed": true,
    "ExecuteTime": {
     "end_time": "2025-05-11T07:45:18.377410Z",
     "start_time": "2025-05-11T07:45:17.995498Z"
    }
   },
   "source": [
    "import numpy as np\n",
    "import matplotlib.pyplot as plt\n",
    "import scipy\n",
    "from scipy.linalg import block_diag\n",
    "\n",
    "plt.close('all')"
   ],
   "outputs": [],
   "execution_count": 1
  },
  {
   "metadata": {},
   "cell_type": "markdown",
   "source": "Loading the data",
   "id": "d8d23a2fa631f5e9"
  },
  {
   "metadata": {
    "ExecuteTime": {
     "end_time": "2025-05-11T08:05:51.247322Z",
     "start_time": "2025-05-11T08:05:51.240845Z"
    }
   },
   "cell_type": "code",
   "source": [
    "data = np.load('data_point_land_1.npz', allow_pickle=True)\n",
    "\n",
    "#print(data.files)\n",
    "\n",
    "Meas = data['Meas'] #Landmark measurements\n",
    "Uf = data['Uf'] #measured forward velocity (odometry)\n",
    "Ua = data['Ua'] #measured angular velocity (odometry)\n",
    "Q = data['Q']\n",
    "Qturn = data['Qturn']\n",
    "R = data['R']\n",
    "Nland = data['Nland'] #number of Landmarks\n",
    "Ts = data['Ts']\n",
    "Wturn = data['wturn'] #treshold Wturn\n",
    "Pose = data['Pose'] #data to be used only for comparison (x(t), y(t), theta(t) of the robot)\n",
    "Landmarks = data['Landmarks'] #data to be used only for comparison (ith row corresponds to i+1th of landmark locations.)"
   ],
   "id": "f31c97b1e1aab8bd",
   "outputs": [],
   "execution_count": 22
  },
  {
   "metadata": {
    "ExecuteTime": {
     "end_time": "2025-05-11T08:05:54.258410Z",
     "start_time": "2025-05-11T08:05:54.255141Z"
    }
   },
   "cell_type": "code",
   "source": [
    "range_land = Meas.item()['range'] #landmark ranges\n",
    "angle_land = Meas.item()['angle']  #landmark angles\n",
    "index_land = Meas.item()['land']  #landmark indices"
   ],
   "id": "e9051118aa8896a7",
   "outputs": [],
   "execution_count": 23
  },
  {
   "metadata": {},
   "cell_type": "markdown",
   "source": "Angle Wrapping Function",
   "id": "461045c2392b1519"
  },
  {
   "metadata": {
    "ExecuteTime": {
     "end_time": "2025-05-11T12:55:25.135902Z",
     "start_time": "2025-05-11T12:55:25.132222Z"
    }
   },
   "cell_type": "code",
   "source": [
    "def angle_wrap(angle):\n",
    "    angle = (angle + np.pi) % (2 * np.pi) - np.pi\n",
    "    return angle\n",
    "\n",
    "def innovation(M, xp):\n",
    "    x = xp[0]\n",
    "    y = xp[1]\n",
    "    theta = xp[2]\n",
    "    landmarks = M[:, 2]\n",
    "\n",
    "    # take the predictions\n",
    "    predicted_meas = np.zeros((len(landmarks), 2))\n",
    "    \n",
    "    for i in range(len(landmarks)):\n",
    "        j = int(landmarks[i] - 1)\n",
    "\n",
    "        lx = xp[3 + 2*j]\n",
    "        ly = xp[3 + 2*j + 1]\n",
    "        \n",
    "        predicted_p = np.sqrt((lx - x)**2 + (ly - y)**2)\n",
    "        predicted_alpha = angle_wrap(np.arctan2(ly - y, lx - x)) - theta\n",
    "        predicted_meas[i][0] = predicted_p\n",
    "        predicted_meas[i][1] = predicted_alpha\n",
    "    \n",
    "    inn = M[:, :2] - predicted_meas\n",
    "    return inn.reshape(-1,1)"
   ],
   "id": "fdcfb97656469670",
   "outputs": [],
   "execution_count": 176
  },
  {
   "metadata": {},
   "cell_type": "markdown",
   "source": "Initialising",
   "id": "974c58116e3eb21e"
  },
  {
   "metadata": {
    "ExecuteTime": {
     "end_time": "2025-05-11T12:55:42.037169Z",
     "start_time": "2025-05-11T12:55:42.033226Z"
    }
   },
   "cell_type": "code",
   "source": [
    "N = Uf.shape[0] #Number of odometry measurements\n",
    "\n",
    "n_upper = 3 #upper system order: x,y,theta\n",
    "n_lower = Nland.item()*2 #lower system order: 2 for every landmark (x,y)\n",
    "n = n_upper + n_lower  #system order\n",
    "\n",
    "x0 = np.zeros(n) #initial states\n",
    "x0[0] = Pose[0,0] #x(0)\n",
    "x0[1] = Pose[0,1] #y(0)\n",
    "x0[2] = Pose[0,2] #theta(0)\n",
    "#upper covariance\n",
    "lambda_ = 0.01\n",
    "P_upper = lambda_ * np.eye(n_upper) #uncertainty of x,y,theta\n",
    "upper_zeros = np.zeros((n_upper,n_lower))\n",
    "#lower covariance\n",
    "eta = 1000\n",
    "P_lower = eta * np.eye(n_lower) #uncertainty landmarks\n",
    "lower_zeros = np.zeros((n_lower,n_upper))\n",
    "#Initial covariance\n",
    "P0 = np.block([[P_upper,upper_zeros],\n",
    "              [lower_zeros,P_lower]])\n",
    "Xp = x0.copy()\n",
    "Pp = P0.copy()"
   ],
   "id": "d762fde697ca4bd7",
   "outputs": [],
   "execution_count": 177
  },
  {
   "metadata": {},
   "cell_type": "markdown",
   "source": "EKF loop",
   "id": "6a4f628488be251d"
  },
  {
   "metadata": {
    "ExecuteTime": {
     "end_time": "2025-05-11T12:42:56.522178Z",
     "start_time": "2025-05-11T12:42:56.515587Z"
    }
   },
   "cell_type": "code",
   "source": [
    "X_pred = np.empty((N,n))\n",
    "P_pred = np.empty((N,n))\n",
    "i = 0\n",
    "\n",
    "checked_landmarks = []\n",
    "while i < N:\n",
    "    #prediction\n",
    "    Xp_lower = np.zeros(n_lower)\n",
    "    # isn't it: np.concatenate((Ts*np.array([Uf[i]*np.cos(Xp[2]), Uf[i]*np.sin(Xp[2]), Ua[i]]), Xp_lower))\n",
    "    # Xp = Xp + np.concatenate((np.array([Uf[i]*np.cos(Xp[2]), Uf[i]*np.cos(Xp[2]), Ua[i]]), Xp_lower))\n",
    "    Xp = Xp + np.concatenate((Ts*np.array([Uf[i]*np.cos(Xp[2]), Uf[i]*np.sin(Xp[2]), Ua[i]]), Xp_lower))\n",
    "    dUpper_dx = np.array([[1, 0, -Ts*Uf[i]*np.sin(Xp[2])],\n",
    "                          [0, 1, Ts*Uf[i]*np.cos(Xp[2])],\n",
    "                          [0, 0, 1]])\n",
    "    dLower_dx = np.eye(n_lower)\n",
    "    F = np.block([[dUpper_dx,upper_zeros],\n",
    "                [lower_zeros,dLower_dx]])\n",
    "    # print(F)\n",
    "    dupper_dw = np.array([[-Ts*np.cos(Xp[2]), 0],\n",
    "                  [-Ts*np.sin(Xp[2]), 0],\n",
    "                  [0, -Ts]])\n",
    "    dlower_dw = np.zeros((n_lower, 2))\n",
    "    G = np.block([[dupper_dw],\n",
    "                  [dlower_dw]])\n",
    "    \n",
    "    if Ua[i] >= Wturn: #If turn rate is bigger than a given turn rate:\n",
    "        Q = Qturn\n",
    "\n",
    "    Pp = F@Pp@F.T + G@Q@G.T\n",
    "\n",
    "\n",
    "    #correction (I dont know if correction should be before or after prediction. Maybe first a correction during initialization, then prediction then another correction.)\n",
    "    \n",
    "    \"\"\"\n",
    "        ########### Correction ###########\n",
    "        \n",
    "        Find the landmark and correct\n",
    "        We need two Jacobians\n",
    "    \"\"\"\n",
    "    # build H\n",
    "    x = Xp[0]\n",
    "    y = Xp[1]\n",
    "    theta = Xp[2]\n",
    "    H = np.zeros((len(range_land[i])*2, n))\n",
    "    for k in range(len(range_land[i])):\n",
    "        # landmarks are from 1, so when we see landmark 1 it means that it will\n",
    "        # be on the 0 position after x, y, theta - Lx = 3, Ly = 4\n",
    "        j = index_land[i][k] - 1 \n",
    "        \n",
    "        \n",
    "        lx = Xp[3 + 2*j]\n",
    "        ly = Xp[3 + 2*j + 1]\n",
    "        \n",
    "        row_p = k*2\n",
    "        row_alpha = k*2 + 1\n",
    "        # derivatives with respect to m_p\n",
    "        p_den = np.sqrt((lx - x)**2 + (ly - y)**2) \n",
    "        \n",
    "        H[row_p][0] = (x - lx)/p_den # dx\n",
    "        H[row_p][1] = (y - ly)/p_den # dy\n",
    "        H[row_p][2] = 0 # dtheta\n",
    "        H[row_p][3 + 2*j] = (lx - x)/p_den #dlx\n",
    "        H[row_p][3 + 2*j+1] = (ly - y)/p_den #dly\n",
    "        \n",
    "        \n",
    "        # derivatives with respect to m_alpha\n",
    "        alpha_den = (lx - x)**2 + (ly - y)**2\n",
    "        H[row_alpha][0] = (ly - y)/alpha_den # dx\n",
    "        H[row_alpha][1] = -(lx - x)/alpha_den #dy\n",
    "        H[row_alpha][2] = -1 #dtheta\n",
    "        H[row_alpha][3 + 2*j] = -(ly - y)/alpha_den #dlx\n",
    "        H[row_alpha][3 + 2*j + 1] = (lx - x)/alpha_den #dly\n",
    "    \n",
    "    # build R\n",
    "    R_new = np.kron(np.eye(len(range_land[i])), R)\n",
    "    # Equations\n",
    "    K = Pp @ H.T @ np.linalg.inv(H @ Pp @ H.T + R_new)\n",
    "    P = Pp - K @ H @ Pp\n",
    "    measurement =  np.array([range_land[i], angle_land[i], index_land[i]]).T\n",
    "    inn = innovation(measurement, Xp)\n",
    "    X = Xp - K @ inn\n",
    "    \n",
    "    \n",
    "    \n",
    "    break\n",
    "    i += 1\n",
    "\n",
    "\n"
   ],
   "id": "2e6063ce453af81a",
   "outputs": [
    {
     "name": "stdout",
     "output_type": "stream",
     "text": [
      "(6, 1)\n",
      "(39, 6)\n",
      "[[40.92856218  5.82975292  0.79451779 ...  0.57604825  0.57604825\n",
      "   0.57604825]\n",
      " [42.00490114  6.90609188  1.87085674 ...  1.65238721  1.65238721\n",
      "   1.65238721]\n",
      " [40.40034712  5.30153787  0.26630273 ...  0.0478332   0.0478332\n",
      "   0.0478332 ]\n",
      " ...\n",
      " [40.35251393  5.25370467  0.21846953 ...  0.          0.\n",
      "   0.        ]\n",
      " [40.35251393  5.25370467  0.21846953 ...  0.          0.\n",
      "   0.        ]\n",
      " [40.35251393  5.25370467  0.21846953 ...  0.          0.\n",
      "   0.        ]]\n"
     ]
    }
   ],
   "execution_count": 175
  },
  {
   "metadata": {},
   "cell_type": "code",
   "outputs": [],
   "execution_count": null,
   "source": [
    "#before correction step: dont forget to insert the landmark into state vector the first time. After inserting don't insert the same one again.\n",
    "# if landmark\n",
    "#     L_x[i] = blaba\n",
    "#     L_y[i] = blabla"
   ],
   "id": "3bf16ecd58ab3cc"
  },
  {
   "metadata": {},
   "cell_type": "code",
   "outputs": [],
   "execution_count": null,
   "source": "",
   "id": "2c17978ffa7cb9ff"
  }
 ],
 "metadata": {
  "kernelspec": {
   "display_name": "Python 3",
   "language": "python",
   "name": "python3"
  },
  "language_info": {
   "codemirror_mode": {
    "name": "ipython",
    "version": 2
   },
   "file_extension": ".py",
   "mimetype": "text/x-python",
   "name": "python",
   "nbconvert_exporter": "python",
   "pygments_lexer": "ipython2",
   "version": "2.7.6"
  }
 },
 "nbformat": 4,
 "nbformat_minor": 5
}
