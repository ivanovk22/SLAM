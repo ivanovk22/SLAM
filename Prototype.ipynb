{
 "cells": [
  {
   "cell_type": "code",
   "id": "initial_id",
   "metadata": {
    "collapsed": true,
    "ExecuteTime": {
     "end_time": "2025-05-10T16:13:10.355466Z",
     "start_time": "2025-05-10T16:13:10.095627Z"
    }
   },
   "source": [
    "import numpy as np\n",
    "import matplotlib.pyplot as plt\n",
    "import scipy\n",
    "from scipy.linalg import block_diag\n",
    "\n",
    "plt.close('all')"
   ],
   "outputs": [],
   "execution_count": 1
  },
  {
   "metadata": {},
   "cell_type": "markdown",
   "source": "Loading the data",
   "id": "d8d23a2fa631f5e9"
  },
  {
   "metadata": {
    "ExecuteTime": {
     "end_time": "2025-05-11T00:15:07.918649Z",
     "start_time": "2025-05-11T00:15:07.914192Z"
    }
   },
   "cell_type": "code",
   "source": [
    "data = np.load('data_point_land_1.npz', allow_pickle=True)\n",
    "\n",
    "#print(data.files)\n",
    "\n",
    "Meas = data['Meas'] #Landmark measurements\n",
    "Uf = data['Uf'] #measured forward velocity (odometry)\n",
    "Ua = data['Ua'] #measured angular velocity (odometry)\n",
    "Q = data['Q']\n",
    "Qturn = data['Qturn']\n",
    "R = data['R']\n",
    "Nland = data['Nland'] #number of Landmarks\n",
    "Ts = data['Ts']\n",
    "Wturn = data['wturn'] #treshold Wturn\n",
    "Pose = data['Pose'] #data to be used only for comparison (x(t), y(t), theta(t) of the robot)\n",
    "Landmarks = data['Landmarks'] #data to be used only for comparison (ith row corresponds to i+1th of landmark locations.)"
   ],
   "id": "f31c97b1e1aab8bd",
   "outputs": [],
   "execution_count": 181
  },
  {
   "metadata": {
    "ExecuteTime": {
     "end_time": "2025-05-11T00:15:09.834998Z",
     "start_time": "2025-05-11T00:15:09.832381Z"
    }
   },
   "cell_type": "code",
   "source": [
    "Range_land = Meas.item()['range'] #landmark ranges\n",
    "Angle_land = Meas.item()['angle']  #landmark angles\n",
    "Index_land = Meas.item()['land']  #landmark indices"
   ],
   "id": "e9051118aa8896a7",
   "outputs": [],
   "execution_count": 182
  },
  {
   "metadata": {},
   "cell_type": "markdown",
   "source": "Angle Wrapping Function",
   "id": "461045c2392b1519"
  },
  {
   "metadata": {
    "ExecuteTime": {
     "end_time": "2025-05-11T00:15:10.881488Z",
     "start_time": "2025-05-11T00:15:10.879072Z"
    }
   },
   "cell_type": "code",
   "source": [
    "def angle_wrap(angle):\n",
    "    angle = (angle + np.pi) % (2 * np.pi) - np.pi\n",
    "    return angle"
   ],
   "id": "fdcfb97656469670",
   "outputs": [],
   "execution_count": 183
  },
  {
   "metadata": {},
   "cell_type": "markdown",
   "source": "Initialising",
   "id": "974c58116e3eb21e"
  },
  {
   "metadata": {
    "ExecuteTime": {
     "end_time": "2025-05-11T00:15:11.760713Z",
     "start_time": "2025-05-11T00:15:11.757270Z"
    }
   },
   "cell_type": "code",
   "source": [
    "N = Uf.shape[0] #Number of odometry measurements\n",
    "\n",
    "n_upper = 3 #upper system order: x,y,theta\n",
    "n_lower = Nland.item()*2 #lower system order: 2 for every landmark (x,y)\n",
    "n = n_upper + n_lower  #system order\n",
    "\n",
    "x0 = np.zeros(n) #initial states\n",
    "x0[0] = Pose[0,0] #x(0)\n",
    "x0[1] = Pose[0,1] #y(0)\n",
    "x0[2] = Pose[0,2] #theta(0)\n",
    "\n",
    "#upper covariance\n",
    "lambda_ = 0.01\n",
    "P_upper = lambda_ * np.eye(n_upper) #uncertainty of x,y,theta\n",
    "upper_zeros = np.zeros((n_upper,n_lower))\n",
    "#lower covariance\n",
    "eta = 1000\n",
    "P_lower = eta * np.eye(n_lower) #uncertainty landmarks\n",
    "lower_zeros = np.zeros((n_lower,n_upper))\n",
    "#Initial covariance\n",
    "P0 = np.block([[P_upper,upper_zeros],\n",
    "              [lower_zeros,P_lower]])\n",
    "\n",
    "Xp = x0.copy()\n",
    "Pp = P0.copy()"
   ],
   "id": "d762fde697ca4bd7",
   "outputs": [],
   "execution_count": 184
  },
  {
   "metadata": {},
   "cell_type": "markdown",
   "source": "EKF loop",
   "id": "6a4f628488be251d"
  },
  {
   "metadata": {
    "ExecuteTime": {
     "end_time": "2025-05-11T00:17:46.022594Z",
     "start_time": "2025-05-11T00:17:46.006637Z"
    }
   },
   "cell_type": "code",
   "source": [
    "X_pred = np.empty((N,n))\n",
    "P_pred = np.empty((N,n))\n",
    "i = 0\n",
    "while i < N:\n",
    "    #prediction\n",
    "    Xp_lower = np.zeros(n_lower)\n",
    "    Xp = Xp + np.concatenate((np.array([Uf[i]*np.cos(Xp[2]), Uf[i]*np.cos(Xp[2]), Ua[i]]), Xp_lower))\n",
    "\n",
    "    dUpper_dx = np.array([[1, 0, -Ts*Uf[i]*np.sin(Xp[2])],\n",
    "                          [0, 1, Ts*Uf[i]*np.cos(Xp[2])],\n",
    "                          [0, 0, 1]])\n",
    "    dLower_dx = np.eye(n_lower)\n",
    "    F = np.block([[dUpper_dx,upper_zeros],\n",
    "                [lower_zeros,dLower_dx]])\n",
    "\n",
    "    dupper_dw = np.array([[-Ts*np.cos(Xp[2]), 0],\n",
    "                  [-Ts*np.sin(Xp[2]), 0],\n",
    "                  [0, -Ts]])\n",
    "    dlower_dw = np.zeros((n_lower, 2))\n",
    "    G = np.block([[dupper_dw],\n",
    "                  [dlower_dw]])\n",
    "\n",
    "    if Ua[i] >= Wturn: #If turn rate is bigger than a given turn rate:\n",
    "        Q = Qturn\n",
    "\n",
    "    Pp = F@Pp@F.T + G@Q@G.T\n",
    "\n",
    "\n",
    "    #correction (I dont know if correction should be before or after prediction. Maybe first a correction during initialization, then prediction then another corretion.)\n",
    "\n",
    "    i += 1\n",
    "\n"
   ],
   "id": "2e6063ce453af81a",
   "outputs": [],
   "execution_count": 187
  },
  {
   "metadata": {},
   "cell_type": "code",
   "outputs": [],
   "execution_count": null,
   "source": [
    "#before correction step: dont forget to insert the landmark into state vector the first time. After inserting don't insert the same one again.\n",
    "if landmark\n",
    "    L_x[i] = blaba\n",
    "    L_y[i] = blabla"
   ],
   "id": "3bf16ecd58ab3cc"
  },
  {
   "metadata": {},
   "cell_type": "code",
   "outputs": [],
   "execution_count": null,
   "source": "",
   "id": "2c17978ffa7cb9ff"
  }
 ],
 "metadata": {
  "kernelspec": {
   "display_name": "Python 3",
   "language": "python",
   "name": "python3"
  },
  "language_info": {
   "codemirror_mode": {
    "name": "ipython",
    "version": 2
   },
   "file_extension": ".py",
   "mimetype": "text/x-python",
   "name": "python",
   "nbconvert_exporter": "python",
   "pygments_lexer": "ipython2",
   "version": "2.7.6"
  }
 },
 "nbformat": 4,
 "nbformat_minor": 5
}
